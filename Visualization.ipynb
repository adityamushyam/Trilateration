{
 "cells": [
  {
   "cell_type": "markdown",
   "metadata": {},
   "source": [
    "## Position processor data analysis and visualization 900 sec"
   ]
  },
  {
   "cell_type": "code",
   "execution_count": null,
   "metadata": {},
   "outputs": [],
   "source": [
    "import numpy as np\n",
    "import matplotlib.pyplot as plt\n",
    "import matplotlib.animation as animation\n",
    "import seaborn as sns"
   ]
  },
  {
   "cell_type": "markdown",
   "metadata": {},
   "source": [
    "### Scatter plots "
   ]
  },
  {
   "cell_type": "code",
   "execution_count": null,
   "metadata": {},
   "outputs": [],
   "source": [
    "fig, axs = plt.subplots(2, figsize=(10, 6))\n",
    "\n",
    "pos=np.loadtxt('p_original')\n",
    "loc=np.loadtxt('p_xy')\n",
    "for i in range (2):\n",
    "    ax=axs[i]\n",
    "    ax.set_xlim((0,100))\n",
    "    ax.set_ylim((0,60))\n",
    "    ax.set_ylabel('Width')\n",
    "    ax.set_xlabel('Length')\n",
    "    #ax.set_aspect(1.0)\n",
    "    #select all y and z values in a given x segment\n",
    "    if i==0:\n",
    "        ax.scatter(pos[:,0], pos[:, 1],s=1,c='r')\n",
    "        ax.set_title('Scatter plot real positions')\n",
    "    else:\n",
    "        ax.scatter(loc[:,0], loc[:, 1],s=1,c='b')\n",
    "        ax.set_title('Scatter plot estimated positions')\n",
    "plt.subplots_adjust(left=0.1,\n",
    "                    bottom=0.1, \n",
    "                    right=0.9, \n",
    "                    top=0.95, \n",
    "                    wspace=0.2, \n",
    "                    hspace=0.4)        \n",
    "plt.show()"
   ]
  },
  {
   "cell_type": "code",
   "execution_count": null,
   "metadata": {},
   "outputs": [],
   "source": [
    "fig, axs = plt.subplots(1, figsize=(10, 6))\n",
    "\n",
    "axs.set_xlim((0,100))\n",
    "axs.set_ylim((0,60))\n",
    "axs.set_ylabel('Width')\n",
    "axs.set_xlabel('Length')\n",
    "\n",
    "axs.scatter(pos[:,0], pos[:, 1],label=\"Real position\", s=2,c='r')\n",
    "axs.scatter(loc[:,0], loc[:, 1],label=\"Estimated position\", s=2,c='b')\n",
    "axs.set_title('Scatter plot overlap of real and estimated positions')\n",
    "\n",
    "plt.legend(bbox_to_anchor=(1.02, 0.1), loc='lower left', borderaxespad=0)\n",
    "plt.show()"
   ]
  },
  {
   "cell_type": "code",
   "execution_count": null,
   "metadata": {},
   "outputs": [],
   "source": [
    "n=int(np.size(loc)/2)\n",
    "time=np.arange(1,n+1)\n",
    "err_pos=np.zeros(n)\n",
    "\n",
    "err_pos=abs(np.sqrt((pos[:,0]-loc[:,0])**2+(pos[:,1]-loc[:,1])**2))\n",
    "#print(err_pos)\n",
    "\n",
    "errx_mean=np.sum(abs(pos[:,0]-loc[:,0]))/n\n",
    "print('errx_mean=',round(errx_mean,2))\n",
    "\n",
    "errx_rms=np.sqrt(np.sum((pos[:,0]-loc[:,0])**2)/n)\n",
    "print('errx_rms=',round(errx_rms,2))\n",
    "\n",
    "erry_mean=np.sum(abs(pos[:,1]-loc[:,1]))/n\n",
    "print('erry_mean=',round(erry_mean,2))\n",
    "\n",
    "erry_rms=np.sqrt(np.sum((pos[:,1]-loc[:,1])**2)/n)\n",
    "print('erry_rms=', round(erry_rms,2))\n",
    "\n",
    "err_mean=np.sum(err_pos)/n\n",
    "print('err_mean=',round(err_mean,2))\n",
    "\n",
    "err_rms=np.sqrt(np.sum((pos[:,0]-loc[:,0])**2+(pos[:,1]-loc[:,1])**2)/n)\n",
    "print('err_rms=', round(err_rms,2))\n",
    "\n",
    "print('Positional accuracy=',round(np.count_nonzero(err_pos < 0.3)*100/n,2),'%')\n",
    "\n",
    "err_max=np.max(err_pos[:])\n",
    "\n",
    "print('error maximum=', round(err_max,2))\n",
    "\n",
    "err_min=np.min(err_pos[:])\n",
    "\n",
    "print('error minimum=', round(err_min,2))"
   ]
  },
  {
   "cell_type": "markdown",
   "metadata": {},
   "source": [
    "## Error in estimation"
   ]
  },
  {
   "cell_type": "code",
   "execution_count": null,
   "metadata": {},
   "outputs": [],
   "source": [
    "fig, axs = plt.subplots(1, figsize=(10, 6))\n",
    "\n",
    "axs.set_ylabel('Error in position (m)')\n",
    "axs.set_xlabel('Time (sec)')\n",
    "axs.set_title('Error in estimated postions')\n",
    "\n",
    "axs.plot(time,err_pos,c='r')\n",
    "    \n",
    "plt.show()"
   ]
  },
  {
   "cell_type": "code",
   "execution_count": null,
   "metadata": {},
   "outputs": [],
   "source": [
    "p=[50,30]\n",
    "pos=np.row_stack((p,pos))\n",
    "loc=np.row_stack((p,loc))\n",
    "l=np.size(pos)/2\n",
    "n=np.size(loc)/2\n",
    "print(l,n)\n"
   ]
  },
  {
   "cell_type": "code",
   "execution_count": null,
   "metadata": {},
   "outputs": [],
   "source": [
    "n=int(np.size(loc)/2)\n",
    "\n",
    "vep=np.zeros(n-1)\n",
    "vep_fil=np.zeros(n-1)\n",
    "vel=np.zeros(n-1)\n",
    "vel_fil=np.zeros(n-1)\n",
    "\n",
    "for j in range(1,n-1):\n",
    "    vep[j-1]=abs(np.sqrt((pos[j,0]-pos[j-1,0])**2+(pos[j,1]-pos[j-1,1])**2))\n",
    "    vel[j-1]=abs(np.sqrt((loc[j,0]-loc[j-1,0])**2+(loc[j,1]-loc[j-1,1])**2))\n",
    "\n",
    "vep_fil[:]=vep[:]\n",
    "vel_fil[:]=vel[:]\n",
    "for j in range(10,n-12):\n",
    "    vep_fil[j]=np.mean(vep[j-10:j+10]**2)\n",
    "    vel_fil[j]=np.mean(vep[j-10:j+10]**2)\n",
    "\n",
    "#print(np.size(vep_fil))\n",
    "\n",
    "err_vel=np.zeros(n)\n",
    "\n",
    "err_vel=abs(vel-vep)\n",
    "#print(err_pos)\n",
    "\n",
    "errv_mean=np.sum(err_vel)/n\n",
    "print('errv_mean=',round(errv_mean,2))\n",
    "\n",
    "errv_rms=np.sqrt(np.sum(err_vel[:]**2)/n)\n",
    "print('errv_rms=',round(errv_rms, 2))\n",
    "\n",
    "errv_max=np.max(err_vel)\n",
    "\n",
    "print('error velocity maximum=', round(errv_max,2))\n",
    "\n",
    "errv_min=np.min(err_vel)\n",
    "\n",
    "print('error velocity  minimum=', round(errv_min,2))"
   ]
  },
  {
   "cell_type": "code",
   "execution_count": null,
   "metadata": {},
   "outputs": [],
   "source": [
    "fig, axs = plt.subplots(2,2, figsize=(20, 10))\n",
    "\n",
    "pos=np.loadtxt('p_original')\n",
    "loc=np.loadtxt('p_xy')\n",
    "\n",
    "for i in range (2):\n",
    "    ax=axs[i//2, i%2]\n",
    "    \n",
    "    #select all y and z values in a given x segment\n",
    "    if i==0:\n",
    "        ax=axs[i, i]\n",
    "        ax.plot(time,vep,c='r',linestyle='--', linewidth=0.1)\n",
    "        ax.set_ylabel('Velocity (m/sec)')\n",
    "        ax.set_xlabel('Time (sec)')\n",
    "        ax=axs[i, i+1]\n",
    "        ax.plot(time,vep_fil, c='g', linewidth=0.5)\n",
    "        ax.set_ylabel('Velocity rms_filtered (m/sec)')\n",
    "        ax.set_xlabel('Time (sec)')\n",
    "    else:\n",
    "        ax=axs[i, i-1]\n",
    "        ax.plot(time,vel,c='r',linestyle='--', linewidth=0.1)\n",
    "        ax.set_ylabel('Estimated Velocity (m/sec)')\n",
    "        ax.set_xlabel('Time (sec)')\n",
    "        ax=axs[i, i]\n",
    "        ax.plot(time,vel_fil, c='g', linewidth=0.5)\n",
    "        ax.set_ylabel('Estimated velocity rms_filtered (m/sec)')\n",
    "        ax.set_xlabel('Time (sec)')\n",
    "plt.show()"
   ]
  },
  {
   "cell_type": "code",
   "execution_count": null,
   "metadata": {},
   "outputs": [],
   "source": [
    "fig, axs = plt.subplots(1, figsize=(10, 6))\n",
    "\n",
    "axs.plot(time,err_pos,c='g', linestyle='--', label=\"Error in position\", linewidth=0.5)\n",
    "axs.plot(time,err_vel,c='r',label=\"Error in velocity\", linewidth=0.3)\n",
    "\n",
    "axs.set_ylabel('Error (m)')\n",
    "axs.set_xlabel('Time (sec)')\n",
    "axs.set_title('Error in estimated postion and velocity')\n",
    "\n",
    "plt.legend()   \n",
    "plt.show()"
   ]
  },
  {
   "cell_type": "markdown",
   "metadata": {},
   "source": [
    "## Probabilty density distributions of error"
   ]
  },
  {
   "cell_type": "code",
   "execution_count": null,
   "metadata": {},
   "outputs": [],
   "source": [
    "fig, axs = plt.subplots(2, figsize=(10, 5))\n",
    "fig.suptitle('Probabilty density distribution of in estimation')\n",
    "\n",
    "sns.histplot(data=err_pos, bins=10, stat=\"density\", kde=True, ax=axs[0])\n",
    "axs[0].set_xlabel('Error in postion (m)')\n",
    "axs[0].set_title('Position error distributin')\n",
    "\n",
    "\n",
    "sns.histplot(data=err_vel, bins=10, stat=\"density\", kde=True, ax=axs[1])\n",
    "axs[1].set_xlabel('Error in velocity (m/sec)')\n",
    "axs[1].set_title('Veolocty error distribution')\n",
    "\n",
    "plt.subplots_adjust(left=0,\n",
    "                    bottom=0, \n",
    "                    right=1, \n",
    "                    top=0.85, \n",
    "                    wspace=0, \n",
    "                    hspace=0.5) \n",
    "\n",
    "plt.show()"
   ]
  },
  {
   "cell_type": "code",
   "execution_count": null,
   "metadata": {},
   "outputs": [],
   "source": [
    "fig, axs = plt.subplots(figsize=(10, 5))\n",
    "\n",
    "def animate(t):\n",
    "    fig.clear()\n",
    "    ax = fig.add_subplot(111)\n",
    "    ax.set_xlim((0,100))\n",
    "    ax.set_ylim((0,60))\n",
    "    ax.scatter(pos[t,0], pos[t, 1],s=10,c='r')\n",
    "    ax.scatter(loc[t,0], loc[t, 1],s=10,c='b')\n",
    "    plt.grid(True, color = \"grey\", linewidth = \"1\", linestyle = \"-.\")\n",
    "\n",
    "ani = animation.FuncAnimation(fig, animate, interval=0.1, frames=range(0,n-1,10))\n",
    "\n",
    "ani.save('animation.gif', writer='pillow')  "
   ]
  }
 ],
 "metadata": {
  "interpreter": {
   "hash": "4f3ab5513d2a46d88ee49522502e99e9367ca1713cc79080d97c17e920bd90d6"
  },
  "kernelspec": {
   "display_name": "Python 3.9.7 ('base')",
   "language": "python",
   "name": "python3"
  },
  "language_info": {
   "codemirror_mode": {
    "name": "ipython",
    "version": 3
   },
   "file_extension": ".py",
   "mimetype": "text/x-python",
   "name": "python",
   "nbconvert_exporter": "python",
   "pygments_lexer": "ipython3",
   "version": "3.9.7"
  },
  "orig_nbformat": 4
 },
 "nbformat": 4,
 "nbformat_minor": 2
}
